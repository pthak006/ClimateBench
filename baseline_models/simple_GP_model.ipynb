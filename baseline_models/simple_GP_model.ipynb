{
 "cells": [
  {
   "cell_type": "code",
   "execution_count": 1,
   "id": "1a4f9bc5-a803-48ae-95ed-22b1b132ee7c",
   "metadata": {},
   "outputs": [
    {
     "name": "stderr",
     "output_type": "stream",
     "text": [
      "2024-01-25 15:36:33.635187: W tensorflow/stream_executor/platform/default/dso_loader.cc:64] Could not load dynamic library 'libcudart.so.11.0'; dlerror: libcudart.so.11.0: cannot open shared object file: No such file or directory\n",
      "2024-01-25 15:36:33.635230: I tensorflow/stream_executor/cuda/cudart_stub.cc:29] Ignore above cudart dlerror if you do not have a GPU set up on your machine.\n"
     ]
    }
   ],
   "source": [
    "import matplotlib.pyplot as plt\n",
    "import cartopy.crs as ccrs\n",
    "\n",
    "import numpy as np\n",
    "import pandas as pd\n",
    "import xarray as xr\n",
    "from eofs.xarray import Eof\n",
    "import esem\n",
    "\n",
    "import warnings\n",
    "warnings.filterwarnings('ignore')"
   ]
  },
  {
   "cell_type": "code",
   "execution_count": 2,
   "id": "17ba968a-8be6-4a29-ae2a-3e8e3f31f293",
   "metadata": {},
   "outputs": [],
   "source": [
    "# Utilities for normalizing the emissions data\n",
    "min_co2 = 0.\n",
    "max_co2 = 2400\n",
    "def normalize_co2(data):\n",
    "    return data / max_co2\n",
    "\n",
    "def un_normalize_co2(data):\n",
    "    return data * max_co2\n",
    "\n",
    "min_ch4 = 0.\n",
    "max_ch4 = 0.6\n",
    "def normalize_ch4(data):\n",
    "    return data / max_ch4\n",
    "\n",
    "def un_normalize_ch4(data):\n",
    "    return data * max_ch4\n",
    "\n",
    "data_path = \"../\"\n"
   ]
  },
  {
   "cell_type": "code",
   "execution_count": null,
   "id": "01d2529f-6a2e-460d-a88b-ac0d2f2b6901",
   "metadata": {},
   "outputs": [],
   "source": [
    "# Get one combined historical + ssp585 timeseries for now\n",
    "X = xr.open_mfdataset([data_path + 'inputs_historical.nc', data_path + 'inputs_ssp585.nc']).compute()\n",
    "# Take the 2nd ensemble member for the historical (the first one has some missing DTR values for some reason...) and the 1st (only) one for SSP585\n",
    "Y = xr.concat([xr.open_dataset(data_path + 'outputs_historical.nc').sel(member=2), xr.open_dataset(data_path + 'outputs_ssp585.nc').sel(member=1)], dim='time').compute()\n",
    "\n",
    "# Convert the precip values to mm/day\n",
    "Y[\"pr\"] *= 86400\n",
    "Y[\"pr90\"] *= 86400"
   ]
  },
  {
   "cell_type": "code",
   "execution_count": null,
   "id": "5f8dce4c-4126-4f99-a245-ca1a132e719c",
   "metadata": {},
   "outputs": [],
   "source": [
    "# Get the test data (NOT visible to contestants)\n",
    "\n",
    "test_Y = xr.open_dataset(data_path + 'outputs_ssp245.nc').compute()\n",
    "test_X = xr.open_dataset(data_path + 'inputs_ssp245.nc').compute()\n"
   ]
  },
  {
   "cell_type": "markdown",
   "id": "4b304a1c-56ca-42b3-bfe2-92e41a68db33",
   "metadata": {},
   "source": [
    "# Input dimensionality reduction\n",
    "\n",
    "For this baseline example I've decided to only take the leading few EOFs of the aerosol emissions data using the `eofs` package."
   ]
  },
  {
   "cell_type": "code",
   "execution_count": null,
   "id": "19d9476a-714a-4978-899b-001041fa7cd4",
   "metadata": {},
   "outputs": [],
   "source": [
    "X['SO2'].mean(['latitude', 'longitude']).plot()"
   ]
  },
  {
   "cell_type": "code",
   "execution_count": null,
   "id": "54229744-cb52-4f5d-9eb1-1dfe2edbec37",
   "metadata": {},
   "outputs": [],
   "source": [
    "# Create an EOF solver to do the EOF analysis. Square-root of cosine of\n",
    "# latitude weights are applied before the computation of EOFs.\n",
    "bc_solver = Eof(X['BC'])\n",
    "\n",
    "# Retrieve the leading EOF, expressed as the correlation between the leading\n",
    "# PC time series and the input SST anomalies at each grid point, and the\n",
    "# leading PC time series itself.\n",
    "bc_eofs = bc_solver.eofsAsCorrelation(neofs=5)\n",
    "bc_pcs = bc_solver.pcs(npcs=5, pcscaling=1)\n",
    "\n",
    "for mode, eof  in bc_eofs.groupby('mode'):\n",
    "    # Plot the leading EOF expressed as correlation in the Pacific domain.\n",
    "    clevs = np.linspace(-1, 1, 11)\n",
    "    eof.plot.pcolormesh(subplot_kws={'projection': ccrs.PlateCarree()},\n",
    "                        cbar_kwargs={'label': '', 'orientation':'horizontal'}, vmin=-1.)\n",
    "    plt.gca().coastlines()\n",
    "    plt.gca().set_title(f\"EOF{mode} expressed as correlation\", fontsize=16)\n",
    "    plt.show()"
   ]
  },
  {
   "cell_type": "code",
   "execution_count": null,
   "id": "8e812ca6-cc4f-4052-ad7e-6d5259ddb92a",
   "metadata": {},
   "outputs": [],
   "source": [
    "# Create an EOF solver to do the EOF analysis. Square-root of cosine of\n",
    "# latitude weights are applied before the computation of EOFs.\n",
    "so2_solver = Eof(X['SO2'])\n",
    "\n",
    "# Retrieve the leading EOF, expressed as the correlation between the leading\n",
    "# PC time series and the input SST anomalies at each grid point, and the\n",
    "# leading PC time series itself.\n",
    "so2_eofs = so2_solver.eofsAsCorrelation(neofs=5)\n",
    "so2_pcs = so2_solver.pcs(npcs=5, pcscaling=1)\n",
    "\n",
    "for (mode, eof), (_, pc) in zip(so2_eofs.groupby('mode'), so2_pcs.groupby('mode')):\n",
    "    # Plot the leading EOF expressed as correlation in the Pacific domain.\n",
    "    clevs = np.linspace(-1, 1, 11)\n",
    "    eof.plot.pcolormesh(subplot_kws={'projection': ccrs.PlateCarree()},\n",
    "                        cbar_kwargs={'label': '', 'orientation':'horizontal'}, vmin=-1.)\n",
    "    plt.gca().coastlines()\n",
    "    plt.gca().set_title(f\"EOF{mode} expressed as correlation\", fontsize=16)\n",
    "    plt.show()\n",
    "    pc.plot()\n",
    "    plt.show()"
   ]
  },
  {
   "cell_type": "code",
   "execution_count": null,
   "id": "9df45a12-3261-4318-a129-5b1314b4b9cc",
   "metadata": {},
   "outputs": [],
   "source": [
    "# Convert the Principle Components of the aerosol emissions (calculated above) in to Pandas DataFrames\n",
    "bc_df = bc_pcs.to_dataframe().unstack('mode')\n",
    "bc_df.columns = [f\"BC_{i}\" for i in range(5)]\n",
    "\n",
    "so2_df = so2_pcs.to_dataframe().unstack('mode')\n",
    "so2_df.columns = [f\"SO2_{i}\" for i in range(5)]"
   ]
  },
  {
   "cell_type": "code",
   "execution_count": null,
   "id": "9c1cc487-feff-468f-9206-d99840ee70f0",
   "metadata": {},
   "outputs": [],
   "source": [
    "# Bring the emissions data back together again and normalise\n",
    "leading_historical_inputs = pd.DataFrame({\n",
    "    \"CO2\": normalize_co2(X[\"CO2\"].data),\n",
    "    \"CH4\": normalize_ch4(X[\"CH4\"].data)\n",
    "}, index=X[\"CO2\"].coords['time'].data)\n",
    "\n",
    "# Combine with aerosol EOFs\n",
    "leading_historical_inputs=pd.concat([leading_historical_inputs, bc_df, so2_df], axis=1)"
   ]
  },
  {
   "cell_type": "code",
   "execution_count": null,
   "id": "84075987-b6b0-419d-b91b-469979c98723",
   "metadata": {},
   "outputs": [],
   "source": [
    "leading_historical_inputs"
   ]
  },
  {
   "cell_type": "markdown",
   "id": "29f6ca94-c20e-4643-8af9-eaba4a930ae2",
   "metadata": {},
   "source": [
    "# Build baseline model"
   ]
  },
  {
   "cell_type": "code",
   "execution_count": null,
   "id": "f0c4e5c4-5683-43e7-a2a9-8bcfc85a100f",
   "metadata": {},
   "outputs": [],
   "source": [
    "from esem import gp_model\n",
    "from esem.data_processors import Whiten, Normalise\n",
    "\n",
    "# Just a *very* simple GP with default kernel assuming all years are independant\n",
    "\n",
    "tas_gp = gp_model(leading_historical_inputs, Y[\"tas\"])\n",
    "tas_gp.train()"
   ]
  },
  {
   "cell_type": "code",
   "execution_count": null,
   "id": "38c074a0-c34b-4b06-a88a-46b8fbe309cf",
   "metadata": {},
   "outputs": [],
   "source": [
    "pr_gp = gp_model(leading_historical_inputs, Y[\"pr\"])\n",
    "pr_gp.train()"
   ]
  },
  {
   "cell_type": "code",
   "execution_count": null,
   "id": "69241e9d-e1e8-4d1f-ba89-7b00b73b8052",
   "metadata": {},
   "outputs": [],
   "source": [
    "dtr_gp = gp_model(leading_historical_inputs, Y[\"diurnal_temperature_range\"])\n",
    "dtr_gp.train()"
   ]
  },
  {
   "cell_type": "code",
   "execution_count": null,
   "id": "a86f8588-d5ce-4c0b-9756-ed525b00439f",
   "metadata": {},
   "outputs": [],
   "source": [
    "pr90_gp = gp_model(leading_historical_inputs, Y[\"pr90\"])\n",
    "pr90_gp.train()"
   ]
  },
  {
   "cell_type": "markdown",
   "id": "4f5edaae-9874-4c00-a65d-003931db9146",
   "metadata": {},
   "source": [
    "## Gather the test data"
   ]
  },
  {
   "cell_type": "code",
   "execution_count": null,
   "id": "de82b5c3-44cf-4701-9afc-f9887bb004c5",
   "metadata": {},
   "outputs": [],
   "source": [
    "# Will be hidden from contestants\n",
    "tas_truth = test_Y[\"tas\"].mean('member')\n",
    "pr_truth = test_Y[\"pr\"].mean('member') * 86400\n",
    "pr90_truth = test_Y[\"pr90\"].mean('member') * 86400\n",
    "dtr_truth = test_Y[\"diurnal_temperature_range\"].mean('member')\n"
   ]
  },
  {
   "cell_type": "code",
   "execution_count": null,
   "id": "6fd0d11b-d232-48f3-8dcd-306e92826432",
   "metadata": {},
   "outputs": [],
   "source": [
    "test_inputs = pd.DataFrame({\n",
    "    \"CO2\": normalize_co2(test_X[\"CO2\"].data),\n",
    "    \"CH4\": normalize_ch4(test_X[\"CH4\"].data)\n",
    "}, index=test_X[\"CO2\"].coords['time'].data)\n",
    "\n",
    "# Combine with aerosol EOFs\n",
    "test_inputs=pd.concat([test_inputs, \n",
    "                       bc_solver.projectField(test_X[\"BC\"], neofs=5, eofscaling=1).to_dataframe().unstack('mode').rename(columns={i:f\"BC_{i}\" for i in range(5)}),\n",
    "                       so2_solver.projectField(test_X[\"SO2\"], neofs=5, eofscaling=1).to_dataframe().unstack('mode').rename(columns={i:f\"_{i}\" for i in range(5)}),\n",
    "                       ], axis=1)"
   ]
  },
  {
   "cell_type": "markdown",
   "id": "c9bac858-5150-4518-9947-538fd6db3144",
   "metadata": {},
   "source": [
    "# Evaluate predictions"
   ]
  },
  {
   "cell_type": "code",
   "execution_count": null,
   "id": "7607f042-a447-496a-879e-5748023ff2ae",
   "metadata": {},
   "outputs": [],
   "source": [
    "m_tas, _ = tas_gp.predict(test_inputs)\n",
    "m_pr, _ = pr_gp.predict(test_inputs)\n",
    "m_pr90, _ = pr90_gp.predict(test_inputs)\n",
    "m_dtr, _ = dtr_gp.predict(test_inputs)"
   ]
  },
  {
   "cell_type": "code",
   "execution_count": null,
   "id": "4a042659-5c2e-459f-b1a1-2fc3316f9ca0",
   "metadata": {},
   "outputs": [],
   "source": [
    "from matplotlib import colors\n",
    "divnorm=colors.TwoSlopeNorm(vmin=-2., vcenter=0., vmax=5)\n",
    "\n",
    "with plt.style.context(\"dark_background\"):\n",
    "    ax = plt.axes(projection=ccrs.PlateCarree())\n",
    "    tas_truth.sel(time=2050).plot(cmap=\"coolwarm\", norm=divnorm,\n",
    "                                  cbar_kwargs={\"label\":\"Temperature change / K\"})\n",
    "    ax.set_title(\"True 2050\")\n",
    "    ax.coastlines()"
   ]
  },
  {
   "cell_type": "code",
   "execution_count": null,
   "id": "941c7ad2-3d30-48ad-8e6d-e71635ba374b",
   "metadata": {},
   "outputs": [],
   "source": [
    "with plt.style.context(\"dark_background\"):\n",
    "    ax = plt.axes(projection=ccrs.PlateCarree())\n",
    "    m_tas.sel(sample=35).plot(cmap=\"coolwarm\", norm=divnorm,\n",
    "                             cbar_kwargs={\"label\":\"Temperature change / K\"})\n",
    "    ax.set_title(\"Emulated 2050\")\n",
    "    ax.coastlines()"
   ]
  },
  {
   "cell_type": "markdown",
   "id": "4815a270-2e4b-4531-a012-a3feb018e616",
   "metadata": {},
   "source": [
    "### These are the metrics to be scored on"
   ]
  },
  {
   "cell_type": "code",
   "execution_count": null,
   "id": "920bea2e-bf78-4152-a6cc-cc3bed8662f2",
   "metadata": {},
   "outputs": [],
   "source": [
    "def get_rmse(truth, pred):\n",
    "    weights = np.cos(np.deg2rad(truth.lat))\n",
    "    return np.sqrt(((truth-pred)**2).weighted(weights).mean(['lat', 'lon'])).data\n",
    "\n",
    "print(f\"RMSE at 2015: {get_rmse(tas_truth[0], m_tas[0])}\")\n",
    "print(f\"RMSE at 2050: {get_rmse(tas_truth[35], m_tas[35])}\")\n",
    "print(f\"RMSE at 2100: {get_rmse(tas_truth[85], m_tas[85])}\")"
   ]
  },
  {
   "cell_type": "code",
   "execution_count": null,
   "id": "21e58260-b886-4899-aa0f-38468498e27a",
   "metadata": {},
   "outputs": [],
   "source": [
    "print(f\"RMSE at 2015: {get_rmse(dtr_truth[0], m_dtr[0])}\")\n",
    "print(f\"RMSE at 2050: {get_rmse(dtr_truth[35], m_dtr[35])}\")\n",
    "print(f\"RMSE at 2100: {get_rmse(dtr_truth[85], m_dtr[85])}\")"
   ]
  },
  {
   "cell_type": "code",
   "execution_count": null,
   "id": "a539cd3b-c16e-4b78-a6b1-289035a98cf1",
   "metadata": {},
   "outputs": [],
   "source": [
    "print(f\"RMSE at 2015: {get_rmse(pr_truth[0], m_pr[0])}\")\n",
    "print(f\"RMSE at 2050: {get_rmse(pr_truth[35], m_pr[35])}\")\n",
    "print(f\"RMSE at 2100: {get_rmse(pr_truth[85], m_pr[85])}\")"
   ]
  },
  {
   "cell_type": "code",
   "execution_count": null,
   "id": "6180069b-6ff3-4b91-8ace-34dc741475d2",
   "metadata": {},
   "outputs": [],
   "source": [
    "print(f\"RMSE at 2015: {get_rmse(pr90_truth[0], m_pr90[0])}\")\n",
    "print(f\"RMSE at 2050: {get_rmse(pr90_truth[35], m_pr90[35])}\")\n",
    "print(f\"RMSE at 2100: {get_rmse(pr90_truth[85], m_pr90[85])}\")"
   ]
  },
  {
   "cell_type": "code",
   "execution_count": null,
   "id": "189ebb28-5285-4239-805e-bd470b9ca340",
   "metadata": {},
   "outputs": [],
   "source": [
    "def get_rmse(truth, pred):\n",
    "    weights = np.cos(np.deg2rad(truth.lat))\n",
    "    return np.sqrt(((truth-pred)**2).weighted(weights).mean(['lat', 'lon', 'sample', 'time'])).data\n",
    "\n",
    "print(f\"RMSE: {get_rmse(tas_truth, m_tas)}\")\n",
    "print(f\"RMSE: {get_rmse(dtr_truth, m_dtr)}\")\n",
    "print(f\"RMSE: {get_rmse(pr_truth, m_pr)}\")\n",
    "print(f\"RMSE: {get_rmse(pr90_truth, m_pr90)}\")\n",
    "\n"
   ]
  }
 ],
 "metadata": {
  "kernelspec": {
   "display_name": "Python 3 (ipykernel)",
   "language": "python",
   "name": "python3"
  },
  "language_info": {
   "codemirror_mode": {
    "name": "ipython",
    "version": 3
   },
   "file_extension": ".py",
   "mimetype": "text/x-python",
   "name": "python",
   "nbconvert_exporter": "python",
   "pygments_lexer": "ipython3",
   "version": "3.10.13"
  }
 },
 "nbformat": 4,
 "nbformat_minor": 5
}
