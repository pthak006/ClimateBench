{
 "cells": [
  {
   "cell_type": "code",
   "execution_count": 1,
   "id": "f3682e5a-ee0a-4a9c-a9e7-019383003e66",
   "metadata": {},
   "outputs": [],
   "source": [
    "import sys\n",
    "sys.path.append(\"../baseline_models\")"
   ]
  },
  {
   "cell_type": "code",
   "execution_count": null,
   "id": "7b96d026-6c2c-4967-a503-df0f492365d5",
   "metadata": {},
   "outputs": [],
   "source": [
    "import numpy as np\n",
    "import xarray as xr\n",
    "import pandas as pd\n",
    "\n",
    "import matplotlib.pyplot as plt\n",
    "import glob\n"
   ]
  },
  {
   "cell_type": "code",
   "execution_count": null,
   "id": "0446346c-4a21-4930-9326-48c3f7a1d4c3",
   "metadata": {},
   "outputs": [],
   "source": [
    "from utils import data_path\n",
    "\n",
    "# This doesn't work with the NorESM CMIP data for some reason\n",
    "_Y = xr.open_dataset(data_path + 'outputs_ssp245.nc')\n",
    "\n",
    "weights = np.cos(np.deg2rad(_Y['tas'].lat)).expand_dims(lon=144).assign_coords(lon=_Y.lon)\n",
    "\n",
    "def global_mean(da):\n",
    "    return da.weighted(weights).mean(['lat', 'lon'])\n",
    "\n",
    "weights"
   ]
  },
  {
   "cell_type": "code",
   "execution_count": null,
   "id": "14e0abf4-7f5d-46bf-91fb-9df9454d7d8b",
   "metadata": {},
   "outputs": [],
   "source": [
    "model_labels = [\n",
    " 'CNRM-CM6-1',\n",
    " 'ACCESS-CM2',\n",
    " 'INM-CM5-0',\n",
    " 'MIROC6',\n",
    " 'HadGEM3-GC31-LL',\n",
    " 'MRI-ESM2-0',\n",
    " 'MCM-UA-1-0',\n",
    " 'FGOALS-g3',\n",
    " 'CMCC-CM2-SR5',\n",
    " 'CanESM5',\n",
    " 'EC-Earth3',\n",
    " 'INM-CM4-8',\n",
    " 'BCC-CSM2-MR',\n",
    " 'CESM2',\n",
    " 'MPI-ESM1-2-LR',\n",
    " 'CESM2-WACCM',\n",
    " 'NorESM2-MM',\n",
    " 'CNRM-CM6-1-HR',\n",
    " 'MIROC-ES2L',\n",
    " 'EC-Earth3-Veg',\n",
    " 'CNRM-ESM2-1'\n",
    "]"
   ]
  },
  {
   "cell_type": "code",
   "execution_count": null,
   "id": "cf5665c5-af2e-4369-a882-ae3004203eb8",
   "metadata": {},
   "outputs": [],
   "source": [
    "# Example NorESM grid\n",
    "noresm = xr.open_mfdataset(\"../CMIP6/*_Ayr_NorESM2-LM_ssp245_r1i1p1f1_gn_2015-2100.nc\").interp_like(weights)\n",
    "# noresm = xr.open_mfdataset(\"/Users/watson-parris/Local data/ClimateBench/CMIP6/*_Ayr_NorESM2-LM_ssp245_r1i1p1f1_gn_2015-2100.nc\").interp_like(weights)\n",
    "noresm['diurnal_temperature_range'] = noresm['tasmax'] - noresm['tasmin']\n",
    "# noresm = noresm.drop('time').assign_coords(year=noresm['time'].dt.year)\n",
    "noresm.coords['time'] = noresm['time'].dt.year\n",
    "noresm"
   ]
  },
  {
   "cell_type": "code",
   "execution_count": null,
   "id": "52be6306-f65e-4126-9deb-c8dc5cf431f9",
   "metadata": {},
   "outputs": [],
   "source": [
    "models = []\n",
    "for model in model_labels:\n",
    "    print(model)\n",
    "    try:\n",
    "        cmip_ds = xr.open_mfdataset(f\"../CMIP6/*_Ayr_{model}_ssp245_*.nc\", decode_times=True)\n",
    "        piclim = xr.open_mfdataset(f\"../CMIP6/*_Ayr_{model}_piControl_*.nc\", decode_times=True).isel(time=slice(-85, None)).mean('time')\n",
    "        # cmip_ds = xr.open_mfdataset(f\"/Users/watson-parris/Local data/ClimateBench/CMIP6/*_Ayr_{model}_ssp245_*.nc\", decode_times=True)\n",
    "        # piclim = xr.open_mfdataset(f\"/Users/watson-parris/Local data/ClimateBench/CMIP6/*_Ayr_{model}_piControl_*.nc\", decode_times=True).isel(time=slice(-85, None)).mean('time')\n",
    "        cmip_ds = cmip_ds - piclim\n",
    "    #     print(cmip_ds['time'].dt.year)\n",
    "        cmip_ds.coords['time'] = cmip_ds['time'].dt.year\n",
    "#     print(cmip_ds['year'])\n",
    "        if 'tasmin' in cmip_ds:\n",
    "            cmip_ds['diurnal_temperature_range'] = cmip_ds['tasmax'] - cmip_ds['tasmin']\n",
    "        else:\n",
    "            cmip_ds['diurnal_temperature_range'] = xr.full_like(cmip_ds['tas'], np.NaN)\n",
    "        models.append(cmip_ds.interp_like(weights))\n",
    "    except Exception:\n",
    "        print(\"Failed to read model\")"
   ]
  },
  {
   "cell_type": "code",
   "execution_count": null,
   "id": "4c5cdb70-6c58-425e-baba-68ea22977244",
   "metadata": {},
   "outputs": [],
   "source": [
    "models[2]"
   ]
  },
  {
   "cell_type": "code",
   "execution_count": null,
   "id": "b8cddaa5-5fef-4459-bed9-aff0a2421ac6",
   "metadata": {},
   "outputs": [],
   "source": [
    "Y = xr.concat([model.assign_coords(model=label) for model, label in zip(models, model_labels)], 'model').compute()"
   ]
  },
  {
   "cell_type": "code",
   "execution_count": null,
   "id": "7433a03c-d3ff-4b96-9ea3-b6a8ebf06138",
   "metadata": {},
   "outputs": [],
   "source": [
    "variables = ['tas', 'pr', 'diurnal_temperature_range']\n",
    "\n",
    "R2E = pd.DataFrame({\n",
    "    \"Variability\": {variable: global_mean(Y[variable].sel(time=slice(2080, None)).mean('time')).std().data / np.abs(global_mean(Y.mean('model')[variable].sel(time=slice(2080, None)).mean('time')).data) for variable in variables} \n",
    "})\n",
    "\n",
    "NRMSE = pd.DataFrame({\n",
    "    \"Variability\": {variable: global_mean(Y[variable].sel(time=slice(2080, None)).mean('time').std('model')).data/ np.abs(global_mean(Y.mean('model')[variable].sel(time=slice(2080, None)).mean('time')).data) for variable in variables}\n",
    "})\n",
    "\n",
    "variability_df = pd.concat([NRMSE, R2E, NRMSE+5*R2E], keys=['Spatial', 'Global', 'Total']).T.swaplevel(axis=1)[variables]\n",
    "\n"
   ]
  },
  {
   "cell_type": "code",
   "execution_count": null,
   "id": "2eb4b4ff-89d6-4a7a-96f4-ef5073595a50",
   "metadata": {},
   "outputs": [],
   "source": [
    "variability_df"
   ]
  },
  {
   "cell_type": "code",
   "execution_count": null,
   "id": "e37e93e0-7a77-451f-be12-5794f557a72f",
   "metadata": {},
   "outputs": [],
   "source": []
  }
 ],
 "metadata": {
  "kernelspec": {
   "display_name": "Python 3 (ipykernel)",
   "language": "python",
   "name": "python3"
  },
  "language_info": {
   "codemirror_mode": {
    "name": "ipython",
    "version": 3
   },
   "file_extension": ".py",
   "mimetype": "text/x-python",
   "name": "python",
   "nbconvert_exporter": "python",
   "pygments_lexer": "ipython3",
   "version": "3.10.13"
  },
  "nbdime-conflicts": {
   "local_diff": [
    {
     "key": "kernelspec",
     "op": "add",
     "value": {
      "display_name": "Python 3 (ipykernel)",
      "language": "python",
      "name": "python3"
     }
    },
    {
     "key": "language_info",
     "op": "add",
     "value": {
      "codemirror_mode": {
       "name": "ipython",
       "version": 3
      },
      "file_extension": ".py",
      "mimetype": "text/x-python",
      "name": "python",
      "nbconvert_exporter": "python",
      "pygments_lexer": "ipython3",
      "version": "3.10.13"
     }
    }
   ],
   "remote_diff": [
    {
     "key": "kernelspec",
     "op": "add",
     "value": {
      "display_name": "Python [conda env:climatebench]",
      "language": "python",
      "name": "conda-env-climatebench-py"
     }
    },
    {
     "key": "language_info",
     "op": "add",
     "value": {
      "codemirror_mode": {
       "name": "ipython",
       "version": 3
      },
      "file_extension": ".py",
      "mimetype": "text/x-python",
      "name": "python",
      "nbconvert_exporter": "python",
      "pygments_lexer": "ipython3",
      "version": "3.9.13"
     }
    }
   ]
  }
 },
 "nbformat": 4,
 "nbformat_minor": 5
}
